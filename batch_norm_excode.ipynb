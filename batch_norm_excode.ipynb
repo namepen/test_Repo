{
  "nbformat": 4,
  "nbformat_minor": 0,
  "metadata": {
    "colab": {
      "name": "batch_norm_excode.ipynb",
      "version": "0.3.2",
      "provenance": [],
      "collapsed_sections": [],
      "include_colab_link": true
    },
    "kernelspec": {
      "name": "python3",
      "display_name": "Python 3"
    },
    "accelerator": "GPU"
  },
  "cells": [
    {
      "cell_type": "markdown",
      "metadata": {
        "id": "view-in-github",
        "colab_type": "text"
      },
      "source": [
        "<a href=\"https://colab.research.google.com/github/namepen/test_Repo/blob/master/batch_norm_excode.ipynb\" target=\"_parent\"><img src=\"https://colab.research.google.com/assets/colab-badge.svg\" alt=\"Open In Colab\"/></a>"
      ]
    },
    {
      "metadata": {
        "id": "ywxUpGCjcbel",
        "colab_type": "text"
      },
      "cell_type": "markdown",
      "source": [
        "\n",
        "\n",
        "## Batch Normalization Example Code\n",
        "\n",
        "Batch Normalization을 적용했을 떄 모델의 학습 성능을 비교해 보자.\n",
        "\n"
      ]
    },
    {
      "metadata": {
        "id": "6S37Xo99cuFy",
        "colab_type": "text"
      },
      "cell_type": "markdown",
      "source": [
        "### Set up"
      ]
    },
    {
      "metadata": {
        "id": "KtN5tbGgfWTJ",
        "colab_type": "code",
        "outputId": "baf0db66-acf8-474c-f13e-e89fa4d26807",
        "colab": {
          "base_uri": "https://localhost:8080/",
          "height": 70
        }
      },
      "cell_type": "code",
      "source": [
        "import tensorflow as tf\n",
        "import numpy as np\n",
        "from tensorflow import keras\n",
        "\n",
        "from keras.callbacks import ReduceLROnPlateau\n",
        "from keras.preprocessing.image import ImageDataGenerator\n",
        "from keras.optimizers import RMSprop, Adam\n",
        "from keras import Sequential\n",
        "from keras.layers import Conv2D, MaxPool2D, Dropout, Flatten, Dense, BatchNormalization, Activation\n",
        "\n",
        "import matplotlib.pyplot as plt\n",
        "import time\n",
        "\n",
        "print(tf.__version__)\n",
        "print(keras.__version__)"
      ],
      "execution_count": 1,
      "outputs": [
        {
          "output_type": "stream",
          "text": [
            "1.12.0\n",
            "2.1.6-tf\n"
          ],
          "name": "stdout"
        },
        {
          "output_type": "stream",
          "text": [
            "Using TensorFlow backend.\n"
          ],
          "name": "stderr"
        }
      ]
    },
    {
      "metadata": {
        "id": "xrKxVdyXcyx8",
        "colab_type": "text"
      },
      "cell_type": "markdown",
      "source": [
        "### Load the dataset\n",
        "\n",
        "fashion mnist dataset을 이용해서 모델을 학습시켜볼 것이다."
      ]
    },
    {
      "metadata": {
        "id": "vgflvKdkfWTW",
        "colab_type": "code",
        "outputId": "98670246-769e-4053-aeb1-45885afade8d",
        "colab": {
          "base_uri": "https://localhost:8080/",
          "height": 158
        }
      },
      "cell_type": "code",
      "source": [
        "(x_train , y_train), (x_test, y_test) = keras.datasets.fashion_mnist.load_data()"
      ],
      "execution_count": 2,
      "outputs": [
        {
          "output_type": "stream",
          "text": [
            "Downloading data from https://storage.googleapis.com/tensorflow/tf-keras-datasets/train-labels-idx1-ubyte.gz\n",
            "32768/29515 [=================================] - 0s 0us/step\n",
            "Downloading data from https://storage.googleapis.com/tensorflow/tf-keras-datasets/train-images-idx3-ubyte.gz\n",
            "26427392/26421880 [==============================] - 0s 0us/step\n",
            "Downloading data from https://storage.googleapis.com/tensorflow/tf-keras-datasets/t10k-labels-idx1-ubyte.gz\n",
            "8192/5148 [===============================================] - 0s 0us/step\n",
            "Downloading data from https://storage.googleapis.com/tensorflow/tf-keras-datasets/t10k-images-idx3-ubyte.gz\n",
            "4423680/4422102 [==============================] - 0s 0us/step\n"
          ],
          "name": "stdout"
        }
      ]
    },
    {
      "metadata": {
        "id": "YFL52FGRfWTZ",
        "colab_type": "code",
        "outputId": "b28dde6d-05a0-45d4-9ab6-f5214f63af17",
        "colab": {
          "base_uri": "https://localhost:8080/",
          "height": 34
        }
      },
      "cell_type": "code",
      "source": [
        "x_train.shape"
      ],
      "execution_count": 3,
      "outputs": [
        {
          "output_type": "execute_result",
          "data": {
            "text/plain": [
              "(60000, 28, 28)"
            ]
          },
          "metadata": {
            "tags": []
          },
          "execution_count": 3
        }
      ]
    },
    {
      "metadata": {
        "id": "Nq9HF69ZfWTe",
        "colab_type": "text"
      },
      "cell_type": "markdown",
      "source": [
        "###Data preprocessing"
      ]
    },
    {
      "metadata": {
        "id": "JISCbX5ZfWTf",
        "colab_type": "code",
        "colab": {}
      },
      "cell_type": "code",
      "source": [
        "x_train = x_train.reshape(-1,28,28,1)/255\n",
        "x_test = x_test.reshape(-1,28,28,1)/255\n",
        "\n",
        "y_train = keras.utils.to_categorical(y_train, num_classes=10)\n",
        "y_test = keras.utils.to_categorical(y_test, num_classes=10)"
      ],
      "execution_count": 0,
      "outputs": []
    },
    {
      "metadata": {
        "id": "Cno7tUSlfWTi",
        "colab_type": "code",
        "colab": {}
      },
      "cell_type": "code",
      "source": [
        "from sklearn.model_selection import train_test_split"
      ],
      "execution_count": 0,
      "outputs": []
    },
    {
      "metadata": {
        "id": "VLcBxHxzfWTm",
        "colab_type": "code",
        "colab": {}
      },
      "cell_type": "code",
      "source": [
        "random_seed = 222"
      ],
      "execution_count": 0,
      "outputs": []
    },
    {
      "metadata": {
        "id": "pLUST4lmfWTp",
        "colab_type": "code",
        "colab": {}
      },
      "cell_type": "code",
      "source": [
        "x_train, x_val, y_train, y_val = train_test_split(x_train, y_train, test_size=0.1, random_state=random_seed)"
      ],
      "execution_count": 0,
      "outputs": []
    },
    {
      "metadata": {
        "id": "YuGRBqClfWTt",
        "colab_type": "code",
        "outputId": "2001bac0-13d6-4c1b-d05f-41b17858f83c",
        "colab": {
          "base_uri": "https://localhost:8080/",
          "height": 228
        }
      },
      "cell_type": "code",
      "source": [
        "def plot_image(x):\n",
        "    plt.figure(figsize=(12,8))\n",
        "    \n",
        "    for ax in range(10):\n",
        "        plt.subplot(5,5,ax+1)\n",
        "        plt.imshow(x[ax,:,:,0])\n",
        "        plt.title(\"Label : {}\".format(np.argmax(y_train[ax])))\n",
        "        plt.axis('off')\n",
        "        \n",
        "plot_image(x_train)"
      ],
      "execution_count": 8,
      "outputs": [
        {
          "output_type": "display_data",
          "data": {
            "image/png": "[encoded data removed]",
            "text/plain": [
              "<Figure size 864x576 with 10 Axes>"
            ]
          },
          "metadata": {
            "tags": []
          }
        }
      ]
    },
    {
      "metadata": {
        "id": "qD_XK2fafWTx",
        "colab_type": "text"
      },
      "cell_type": "markdown",
      "source": [
        " ## Data argumentation\n",
        " \n",
        " keras.preprocessing.ImageDataGenerator을 사용해서 간단한 Argumentation을 적용해볼 것이다.\n",
        " \n",
        " \n",
        " * shear_range : 밀림 강도 범위내에서 임의로 원본이미지를 변형시킵니다. 수치는 시계반대방향으로 밀림 강도를 라디안으로 나타냅니다. \n",
        " \n",
        " * zoom_range : 이미지를 범위내에서 확대/축소 변형시킵니다.\n",
        " \n",
        " * horizontal_flip : 이미지를 좌우 반전 시킵니다."
      ]
    },
    {
      "metadata": {
        "id": "zuwOq2DlfWTz",
        "colab_type": "code",
        "colab": {}
      },
      "cell_type": "code",
      "source": [
        "datagen = ImageDataGenerator(shear_range=0.2, zoom_range=0.2, horizontal_flip=True)\n",
        "\n",
        "datagen.fit(x_train)\n",
        "\n",
        "train_generator = datagen.flow(x_train, y_train, batch_size= 128)"
      ],
      "execution_count": 0,
      "outputs": []
    },
    {
      "metadata": {
        "id": "zQjI50_YfWT1",
        "colab_type": "text"
      },
      "cell_type": "markdown",
      "source": [
        "### Create CNN model\n",
        "\n",
        "간단한 CNN model을 구성하며, keras의 Sequential API를 이용할 것이다."
      ]
    },
    {
      "metadata": {
        "id": "kdVzEjnJfWT6",
        "colab_type": "code",
        "colab": {}
      },
      "cell_type": "code",
      "source": [
        "def MyModel(bn = True, activation=\"sigmoid\"):\n",
        "    model = Sequential()\n",
        "    \n",
        "    model.add(Conv2D(64, 3, padding=\"same\", input_shape=(x_train.shape[1:])))\n",
        "    if bn:\n",
        "        model.add(BatchNormalization())\n",
        "    model.add(Activation(activation))\n",
        "    \n",
        "    #first block\n",
        "    model.add(Conv2D(64, 3, padding=\"same\"))\n",
        "    if bn:\n",
        "        model.add(BatchNormalization())\n",
        "    model.add(Activation(activation))\n",
        "    \n",
        "    model.add(Conv2D(64, 3, padding=\"same\"))\n",
        "    if bn:\n",
        "        model.add(BatchNormalization())\n",
        "    model.add(Activation(activation))\n",
        "    \n",
        "    model.add(MaxPool2D())\n",
        "    model.add(Dropout(0.15))\n",
        "    \n",
        "    #Second block\n",
        "    model.add(Conv2D(64, 3, padding=\"same\"))\n",
        "    if bn:\n",
        "        model.add(BatchNormalization())\n",
        "    model.add(Activation(activation))\n",
        "    \n",
        "    model.add(Conv2D(64, 3, padding=\"same\"))\n",
        "    if bn:\n",
        "        model.add(BatchNormalization())\n",
        "    model.add(Activation(activation))\n",
        "    \n",
        "    model.add(MaxPool2D())\n",
        "    model.add(Dropout(0.15))\n",
        "    \n",
        "    #Dense layer\n",
        "    model.add(Flatten())\n",
        "    model.add(Dense(10, activation = \"softmax\"))\n",
        "    \n",
        "    return model"
      ],
      "execution_count": 0,
      "outputs": []
    },
    {
      "metadata": {
        "id": "Yc5LtlFLfWT9",
        "colab_type": "code",
        "colab": {}
      },
      "cell_type": "code",
      "source": [
        "def compile_model(model, optimizer='rmsprop', loss='categorical_crossentropy'):\n",
        "    model.compile(optimizer=optimizer, loss=loss, metrics=['accuracy'])\n",
        "    \n",
        "    return model"
      ],
      "execution_count": 0,
      "outputs": []
    },
    {
      "metadata": {
        "id": "QkBEK92tfWUB",
        "colab_type": "text"
      },
      "cell_type": "markdown",
      "source": [
        "### 4 difference model\n",
        "\n",
        "Activation을 sigmoid와 relu 두 가지로 나누며, Batch Normalization을 적용한것과 안한 모델을 비교할 것이다."
      ]
    },
    {
      "metadata": {
        "id": "8eqn31hPfWUC",
        "colab_type": "code",
        "colab": {}
      },
      "cell_type": "code",
      "source": [
        "#COMPILING THE 4 MODELS\n",
        "sigmoid_without_bn = MyModel(bn=False, activation=\"sigmoid\")\n",
        "sigmoid_without_bn = compile_model(sigmoid_without_bn)\n",
        "\n",
        "sigmoid_with_bn = MyModel(bn=True, activation=\"sigmoid\")\n",
        "sigmoid_with_bn = compile_model(sigmoid_with_bn)\n",
        "\n",
        "relu_without_bn = MyModel(bn=False, activation=\"relu\")\n",
        "relu_without_bn = compile_model(relu_without_bn)\n",
        "\n",
        "relu_with_bn = MyModel(bn=True, activation=\"relu\")\n",
        "relu_with_bn = compile_model(relu_with_bn)"
      ],
      "execution_count": 0,
      "outputs": []
    },
    {
      "metadata": {
        "id": "V5f6tOIUfWUF",
        "colab_type": "text"
      },
      "cell_type": "markdown",
      "source": [
        "### Training Models"
      ]
    },
    {
      "metadata": {
        "id": "pRJ0dm9nfWUJ",
        "colab_type": "code",
        "colab": {}
      },
      "cell_type": "code",
      "source": [
        "batch_size = 128"
      ],
      "execution_count": 0,
      "outputs": []
    },
    {
      "metadata": {
        "id": "6OZTx0uofWUP",
        "colab_type": "code",
        "outputId": "2a748601-c353-43e9-ad5e-77c96ac30dc6",
        "colab": {
          "base_uri": "https://localhost:8080/",
          "height": 2833
        }
      },
      "cell_type": "code",
      "source": [
        "hist_1 = sigmoid_without_bn.fit_generator(train_generator, epochs=20,  #batch_size 는 윙\n",
        "                                 steps_per_epoch=x_train.shape[0]/ batch_size,\n",
        "                                  verbose=1)\n",
        "\n",
        "\n",
        "hist_2 = sigmoid_with_bn.fit_generator(train_generator, epochs=20,  #batch_size 는 윙\n",
        "                                 steps_per_epoch=x_train.shape[0]/ batch_size,\n",
        "                                  verbose=1)\n",
        "\n",
        "hist_3 = relu_without_bn.fit_generator(train_generator, epochs=20,  #batch_size 는 윙\n",
        "                                 steps_per_epoch=x_train.shape[0]/ batch_size,\n",
        "                                  verbose=1)\n",
        "\n",
        "hist_4 = relu_with_bn.fit_generator(train_generator, epochs=20,  #batch_size 는 윙\n",
        "                                 steps_per_epoch=x_train.shape[0]/ batch_size,\n",
        "                                  verbose=1)"
      ],
      "execution_count": 14,
      "outputs": [
        {
          "output_type": "stream",
          "text": [
            "Epoch 1/20\n",
            "422/421 [==============================] - 21s 49ms/step - loss: 2.3191 - acc: 0.0979\n",
            "Epoch 2/20\n",
            "422/421 [==============================] - 17s 40ms/step - loss: 2.3027 - acc: 0.0986\n",
            "Epoch 3/20\n",
            "422/421 [==============================] - 17s 40ms/step - loss: 2.3027 - acc: 0.0975\n",
            "Epoch 4/20\n",
            "422/421 [==============================] - 17s 40ms/step - loss: 2.3027 - acc: 0.0988\n",
            "Epoch 5/20\n",
            "422/421 [==============================] - 17s 40ms/step - loss: 2.3027 - acc: 0.0979\n",
            "Epoch 6/20\n",
            "422/421 [==============================] - 17s 40ms/step - loss: 2.3027 - acc: 0.0990\n",
            "Epoch 7/20\n",
            "422/421 [==============================] - 17s 40ms/step - loss: 2.3027 - acc: 0.0986\n",
            "Epoch 8/20\n",
            "422/421 [==============================] - 17s 40ms/step - loss: 2.3027 - acc: 0.0973\n",
            "Epoch 9/20\n",
            "422/421 [==============================] - 17s 40ms/step - loss: 2.3027 - acc: 0.0985\n",
            "Epoch 10/20\n",
            "422/421 [==============================] - 17s 40ms/step - loss: 2.3027 - acc: 0.0971\n",
            "Epoch 11/20\n",
            "422/421 [==============================] - 17s 40ms/step - loss: 2.3027 - acc: 0.0965\n",
            "Epoch 12/20\n",
            "422/421 [==============================] - 17s 41ms/step - loss: 2.3027 - acc: 0.0979\n",
            "Epoch 13/20\n",
            "422/421 [==============================] - 17s 41ms/step - loss: 2.3027 - acc: 0.0988\n",
            "Epoch 14/20\n",
            "422/421 [==============================] - 17s 40ms/step - loss: 2.3027 - acc: 0.0998\n",
            "Epoch 15/20\n",
            "422/421 [==============================] - 17s 40ms/step - loss: 2.3027 - acc: 0.0978\n",
            "Epoch 16/20\n",
            "422/421 [==============================] - 17s 41ms/step - loss: 2.3027 - acc: 0.0986\n",
            "Epoch 17/20\n",
            "422/421 [==============================] - 17s 40ms/step - loss: 2.3027 - acc: 0.0980\n",
            "Epoch 18/20\n",
            "422/421 [==============================] - 17s 41ms/step - loss: 2.3027 - acc: 0.0980\n",
            "Epoch 19/20\n",
            "422/421 [==============================] - 17s 40ms/step - loss: 2.3027 - acc: 0.0983\n",
            "Epoch 20/20\n",
            "422/421 [==============================] - 17s 41ms/step - loss: 2.3027 - acc: 0.0992\n",
            "Epoch 1/20\n",
            "422/421 [==============================] - 25s 59ms/step - loss: 1.1852 - acc: 0.5982\n",
            "Epoch 2/20\n",
            "422/421 [==============================] - 24s 57ms/step - loss: 0.7434 - acc: 0.7416\n",
            "Epoch 3/20\n",
            "422/421 [==============================] - 24s 57ms/step - loss: 0.6353 - acc: 0.7806\n",
            "Epoch 4/20\n",
            "422/421 [==============================] - 24s 57ms/step - loss: 0.5637 - acc: 0.8052\n",
            "Epoch 5/20\n",
            "422/421 [==============================] - 24s 57ms/step - loss: 0.5237 - acc: 0.8168\n",
            "Epoch 6/20\n",
            "422/421 [==============================] - 24s 57ms/step - loss: 0.4848 - acc: 0.8302\n",
            "Epoch 7/20\n",
            "422/421 [==============================] - 24s 57ms/step - loss: 0.4620 - acc: 0.8389\n",
            "Epoch 8/20\n",
            "422/421 [==============================] - 24s 57ms/step - loss: 0.4334 - acc: 0.8482\n",
            "Epoch 9/20\n",
            "422/421 [==============================] - 24s 57ms/step - loss: 0.4176 - acc: 0.8523\n",
            "Epoch 10/20\n",
            "422/421 [==============================] - 24s 57ms/step - loss: 0.3998 - acc: 0.8599\n",
            "Epoch 11/20\n",
            "422/421 [==============================] - 24s 57ms/step - loss: 0.3844 - acc: 0.8640\n",
            "Epoch 12/20\n",
            "422/421 [==============================] - 24s 57ms/step - loss: 0.3716 - acc: 0.8682\n",
            "Epoch 13/20\n",
            "422/421 [==============================] - 24s 57ms/step - loss: 0.3634 - acc: 0.8719\n",
            "Epoch 14/20\n",
            "422/421 [==============================] - 24s 57ms/step - loss: 0.3471 - acc: 0.8774\n",
            "Epoch 15/20\n",
            "422/421 [==============================] - 24s 58ms/step - loss: 0.3443 - acc: 0.8780\n",
            "Epoch 16/20\n",
            "422/421 [==============================] - 24s 58ms/step - loss: 0.3296 - acc: 0.8841\n",
            "Epoch 17/20\n",
            "422/421 [==============================] - 25s 58ms/step - loss: 0.3229 - acc: 0.8858\n",
            "Epoch 18/20\n",
            "422/421 [==============================] - 25s 58ms/step - loss: 0.3195 - acc: 0.8861\n",
            "Epoch 19/20\n",
            "422/421 [==============================] - 24s 58ms/step - loss: 0.3060 - acc: 0.8905\n",
            "Epoch 20/20\n",
            "422/421 [==============================] - 25s 58ms/step - loss: 0.3046 - acc: 0.8916\n",
            "Epoch 1/20\n",
            "422/421 [==============================] - 18s 43ms/step - loss: 0.6393 - acc: 0.7635\n",
            "Epoch 2/20\n",
            "422/421 [==============================] - 17s 41ms/step - loss: 0.3864 - acc: 0.8600\n",
            "Epoch 3/20\n",
            "422/421 [==============================] - 17s 41ms/step - loss: 0.3366 - acc: 0.8789\n",
            "Epoch 4/20\n",
            "422/421 [==============================] - 17s 41ms/step - loss: 0.3025 - acc: 0.8908\n",
            "Epoch 5/20\n",
            "422/421 [==============================] - 17s 41ms/step - loss: 0.2851 - acc: 0.8969\n",
            "Epoch 6/20\n",
            "422/421 [==============================] - 17s 41ms/step - loss: 0.2722 - acc: 0.9018\n",
            "Epoch 7/20\n",
            "422/421 [==============================] - 17s 41ms/step - loss: 0.2629 - acc: 0.9054\n",
            "Epoch 8/20\n",
            "422/421 [==============================] - 17s 41ms/step - loss: 0.2567 - acc: 0.9080\n",
            "Epoch 9/20\n",
            "422/421 [==============================] - 17s 41ms/step - loss: 0.2487 - acc: 0.9102\n",
            "Epoch 10/20\n",
            "422/421 [==============================] - 17s 41ms/step - loss: 0.2408 - acc: 0.9125\n",
            "Epoch 11/20\n",
            "422/421 [==============================] - 17s 41ms/step - loss: 0.2358 - acc: 0.9145\n",
            "Epoch 12/20\n",
            "422/421 [==============================] - 17s 41ms/step - loss: 0.2301 - acc: 0.9171\n",
            "Epoch 13/20\n",
            "422/421 [==============================] - 17s 41ms/step - loss: 0.2289 - acc: 0.9182\n",
            "Epoch 14/20\n",
            "422/421 [==============================] - 17s 41ms/step - loss: 0.2242 - acc: 0.9190\n",
            "Epoch 15/20\n",
            "422/421 [==============================] - 17s 41ms/step - loss: 0.2218 - acc: 0.9204\n",
            "Epoch 16/20\n",
            "422/421 [==============================] - 17s 41ms/step - loss: 0.2182 - acc: 0.9215\n",
            "Epoch 17/20\n",
            "422/421 [==============================] - 17s 41ms/step - loss: 0.2165 - acc: 0.9217\n",
            "Epoch 18/20\n",
            "422/421 [==============================] - 18s 42ms/step - loss: 0.2118 - acc: 0.9254\n",
            "Epoch 19/20\n",
            "422/421 [==============================] - 17s 41ms/step - loss: 0.2120 - acc: 0.9240\n",
            "Epoch 20/20\n",
            "422/421 [==============================] - 17s 41ms/step - loss: 0.2084 - acc: 0.9243\n",
            "Epoch 1/20\n",
            "422/421 [==============================] - 26s 61ms/step - loss: 0.7313 - acc: 0.7569\n",
            "Epoch 2/20\n",
            "422/421 [==============================] - 25s 58ms/step - loss: 0.4041 - acc: 0.8540\n",
            "Epoch 3/20\n",
            "422/421 [==============================] - 25s 59ms/step - loss: 0.3409 - acc: 0.8762\n",
            "Epoch 4/20\n",
            "422/421 [==============================] - 25s 58ms/step - loss: 0.3090 - acc: 0.8883\n",
            "Epoch 5/20\n",
            "422/421 [==============================] - 24s 56ms/step - loss: 0.2823 - acc: 0.8978\n",
            "Epoch 6/20\n",
            "422/421 [==============================] - 24s 56ms/step - loss: 0.2646 - acc: 0.9050\n",
            "Epoch 7/20\n",
            "422/421 [==============================] - 24s 56ms/step - loss: 0.2569 - acc: 0.9084\n",
            "Epoch 8/20\n",
            "422/421 [==============================] - 24s 56ms/step - loss: 0.2416 - acc: 0.9126\n",
            "Epoch 9/20\n",
            "422/421 [==============================] - 24s 57ms/step - loss: 0.2352 - acc: 0.9150\n",
            "Epoch 10/20\n",
            "422/421 [==============================] - 24s 56ms/step - loss: 0.2282 - acc: 0.9179\n",
            "Epoch 11/20\n",
            "422/421 [==============================] - 24s 56ms/step - loss: 0.2185 - acc: 0.9211\n",
            "Epoch 12/20\n",
            "422/421 [==============================] - 24s 56ms/step - loss: 0.2184 - acc: 0.9215\n",
            "Epoch 13/20\n",
            "422/421 [==============================] - 24s 56ms/step - loss: 0.2108 - acc: 0.9240\n",
            "Epoch 14/20\n",
            "422/421 [==============================] - 24s 57ms/step - loss: 0.2071 - acc: 0.9247\n",
            "Epoch 15/20\n",
            "422/421 [==============================] - 24s 56ms/step - loss: 0.2015 - acc: 0.9271\n",
            "Epoch 16/20\n",
            "422/421 [==============================] - 24s 57ms/step - loss: 0.1998 - acc: 0.9277\n",
            "Epoch 17/20\n",
            "422/421 [==============================] - 24s 56ms/step - loss: 0.1984 - acc: 0.9283\n",
            "Epoch 18/20\n",
            "422/421 [==============================] - 24s 56ms/step - loss: 0.1921 - acc: 0.9305\n",
            "Epoch 19/20\n",
            "422/421 [==============================] - 24s 57ms/step - loss: 0.1901 - acc: 0.9313\n",
            "Epoch 20/20\n",
            "422/421 [==============================] - 24s 57ms/step - loss: 0.1846 - acc: 0.9334\n"
          ],
          "name": "stdout"
        }
      ]
    },
    {
      "metadata": {
        "id": "mw610BSseA8L",
        "colab_type": "text"
      },
      "cell_type": "markdown",
      "source": [
        "### Plot Conclusion"
      ]
    },
    {
      "metadata": {
        "id": "0aex62HKZhpR",
        "colab_type": "code",
        "colab": {
          "base_uri": "https://localhost:8080/",
          "height": 592
        },
        "outputId": "31650327-ac7e-4dd6-f2cd-1501c9a2f77c"
      },
      "cell_type": "code",
      "source": [
        "def plot_hist(option='loss'):\n",
        "  plt.figure(figsize=(10,10))\n",
        "  plt.plot(hist_1.history[option], label='sigmoid_without_bn')\n",
        "  plt.plot(hist_2.history[option],'--', label='sigmoid_with_bn')\n",
        "  plt.plot(hist_3.history[option], label='relu_without_bn')\n",
        "  plt.plot(hist_4.history[option],'--',label='relu_with_bn')\n",
        "  plt.legend()\n",
        "  plt.show()\n",
        "  \n",
        "plot_hist('loss')"
      ],
      "execution_count": 29,
      "outputs": [
        {
          "output_type": "display_data",
          "data": {
            "image/png": "[encoded data removed]",
            "text/plain": [
              "<Figure size 720x720 with 1 Axes>"
            ]
          },
          "metadata": {
            "tags": []
          }
        }
      ]
    },
    {
      "metadata": {
        "id": "NZBgfgqca05s",
        "colab_type": "code",
        "colab": {
          "base_uri": "https://localhost:8080/",
          "height": 592
        },
        "outputId": "ddb026be-b8ff-48fe-bda3-0edaa5e11035"
      },
      "cell_type": "code",
      "source": [
        "plot_hist('acc')"
      ],
      "execution_count": 30,
      "outputs": [
        {
          "output_type": "display_data",
          "data": {
            "image/png": "[encoded data removed]",
            "text/plain": [
              "<Figure size 720x720 with 1 Axes>"
            ]
          },
          "metadata": {
            "tags": []
          }
        }
      ]
    },
    {
      "metadata": {
        "id": "NpyftW9YbmGu",
        "colab_type": "text"
      },
      "cell_type": "markdown",
      "source": [
        "위 그래프를 살펴보면, BN을 적용하지 않고 sigmoid만 사용한 경우, loss와 acc의 변화가 거의 없는 것으로 보아 학습이 거의 이루어지지 않는 상태에 빠졌다고 볼 수 있다. BN을 적용하면 확실하게 loss가 감소하면서 학습이 잘 이루어지는 현상을 볼 수 있다.\n",
        "\n",
        "Relu를 적용했을 때는 BN없이도 학습이 잘 진행되지만, BN을 적용했을 때 더 좋은 결과를 보여주는 것을 확인 할 수 있다. "
      ]
    },
    {
      "metadata": {
        "id": "viYwwxWIZO1L",
        "colab_type": "code",
        "colab": {}
      },
      "cell_type": "code",
      "source": [
        ""
      ],
      "execution_count": 0,
      "outputs": []
    }
  ]
}